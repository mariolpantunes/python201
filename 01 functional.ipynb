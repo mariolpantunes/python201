{
 "cells": [
  {
   "cell_type": "markdown",
   "metadata": {},
   "source": [
    "# Functional Programming\n",
    "\n",
    "Python provides several functions which enable a functional approach to programming.\n",
    "These functions are all convenience features in that they can be written in Python fairly easily.\n",
    "Functional programming is all about expressions.\n",
    "We may say that the Functional programming is an expression oriented programming.\n",
    "\n",
    "Expression oriented functions of Python provides are:\n",
    "1. lambda,\n",
    "2. map(aFunction, aSequence),\n",
    "3. filter(aFunction, aSequence),\n",
    "4. reduce(aFunction, aSequence), \n",
    "5. list comprehension.\n",
    "\n",
    "\n",
    "## Lambda\n",
    "\n",
    "A lambda function is a small anonymous function.\n",
    "A lambda function can take any number of arguments, but can only have one expression.\n",
    "\n",
    "### Syntax\n",
    "\n",
    "```\n",
    "lambda arguments : expression\n",
    "```\n",
    "\n",
    "The expression is executed and the result is returned:"
   ]
  },
  {
   "cell_type": "code",
   "execution_count": 1,
   "metadata": {},
   "outputs": [
    {
     "name": "stdout",
     "output_type": "stream",
     "text": [
      "15\n"
     ]
    }
   ],
   "source": [
    "x = lambda a : a + 10\n",
    "print(x(5)) "
   ]
  },
  {
   "cell_type": "code",
   "execution_count": 2,
   "metadata": {},
   "outputs": [
    {
     "name": "stdout",
     "output_type": "stream",
     "text": [
      "30\n"
     ]
    }
   ],
   "source": [
    "x = lambda a, b : a * b\n",
    "print(x(5, 6))"
   ]
  },
  {
   "cell_type": "code",
   "execution_count": 3,
   "metadata": {},
   "outputs": [
    {
     "name": "stdout",
     "output_type": "stream",
     "text": [
      "13\n"
     ]
    }
   ],
   "source": [
    "x = lambda a, b, c : a + b + c\n",
    "print(x(5, 6, 2)) "
   ]
  },
  {
   "cell_type": "markdown",
   "metadata": {},
   "source": [
    "### Why Use Lambda Functions?\n",
    "\n",
    "The power of lambda is better shown when you use them as an anonymous function inside another function.\n",
    "Say you have a function definition that takes one argument, and that argument will be multiplied with an unknown number:"
   ]
  },
  {
   "cell_type": "code",
   "execution_count": 5,
   "metadata": {},
   "outputs": [
    {
     "name": "stdout",
     "output_type": "stream",
     "text": [
      "22\n"
     ]
    }
   ],
   "source": [
    "def myfunc(n):\n",
    "  return lambda a : a * n\n",
    "\n",
    "mydoubler = myfunc(2)\n",
    "\n",
    "print(mydoubler(11))"
   ]
  },
  {
   "cell_type": "markdown",
   "metadata": {},
   "source": [
    "Or, use the same function definition to make a function that always triples the number you send in:"
   ]
  },
  {
   "cell_type": "code",
   "execution_count": 6,
   "metadata": {},
   "outputs": [
    {
     "name": "stdout",
     "output_type": "stream",
     "text": [
      "33\n"
     ]
    }
   ],
   "source": [
    "def myfunc(n):\n",
    "  return lambda a : a * n\n",
    "\n",
    "mytripler = myfunc(3)\n",
    "\n",
    "print(mytripler(11))"
   ]
  },
  {
   "cell_type": "markdown",
   "metadata": {},
   "source": [
    "## Map\n",
    "\n",
    "One of the common things we do with list and other sequences is applying an operation to each item and collect the result.\n",
    "\n",
    "For example, updating all the items in a list can be done easily with a for loop:"
   ]
  },
  {
   "cell_type": "code",
   "execution_count": 1,
   "metadata": {},
   "outputs": [
    {
     "name": "stdout",
     "output_type": "stream",
     "text": [
      "[1, 4, 9, 16, 25]\n"
     ]
    }
   ],
   "source": [
    "items = [1, 2, 3, 4, 5]\n",
    "squared = []\n",
    "\n",
    "for x in items:\n",
    "    squared.append(x ** 2)\n",
    "\n",
    "print(squared)"
   ]
  },
  {
   "cell_type": "markdown",
   "metadata": {},
   "source": [
    "Since this is such a common operation, actually, we have a built-in feature that does most of the work for us.\n",
    "\n",
    "The map(aFunction, aSequence) function applies a passed-in function to each item in an iterable object and returns a list containing all the function call results."
   ]
  },
  {
   "cell_type": "code",
   "execution_count": 2,
   "metadata": {},
   "outputs": [
    {
     "name": "stdout",
     "output_type": "stream",
     "text": [
      "[1, 4, 9, 16, 25]\n"
     ]
    }
   ],
   "source": [
    "def sqr(x): return x ** 2\n",
    "\n",
    "squared = list(map(sqr, items))\n",
    "print(squared)"
   ]
  },
  {
   "cell_type": "markdown",
   "metadata": {},
   "source": [
    "We passed in a user-defined function applied to each item in the list. map calls sqr on each list item and collects all the return values into a new list.\n",
    "\n",
    "Because map expects a function to be passed in, it also happens to be one of the places where lambda routinely appears:"
   ]
  },
  {
   "cell_type": "code",
   "execution_count": 5,
   "metadata": {},
   "outputs": [
    {
     "name": "stdout",
     "output_type": "stream",
     "text": [
      "[1, 4, 9, 16, 25]\n"
     ]
    }
   ],
   "source": [
    "squared = list(map((lambda x: x **2), items))\n",
    "print(squared)"
   ]
  },
  {
   "cell_type": "markdown",
   "metadata": {},
   "source": [
    "Since it's a built-in, map is always available and always works the same way.\n",
    "It also has some performance benefit because it is usually faster than a manually coded for loop."
   ]
  },
  {
   "cell_type": "markdown",
   "metadata": {},
   "source": [
    "## Filter\n",
    "\n",
    "As the name suggests filter extracts each element in the sequence for which the function returns True.\n",
    "\n",
    "\n",
    "These tools apply functions to sequences and other iterables.\n",
    "The filter filters out items based on a test function which is a filter and apply functions to pairs of item and running result which is reduce.\n",
    "\n",
    "Because they return iterables, range and filter both require list calls to display all their results in Python 3.0.\n",
    "\n",
    "As an example, the following filter call picks out items in a sequence that are less than zero:"
   ]
  },
  {
   "cell_type": "code",
   "execution_count": 7,
   "metadata": {},
   "outputs": [
    {
     "name": "stdout",
     "output_type": "stream",
     "text": [
      "[-5, -4, -3, -2, -1, 0, 1, 2, 3, 4]\n",
      "[-5, -4, -3, -2, -1]\n"
     ]
    }
   ],
   "source": [
    "l = list(range(-5,5))\n",
    "print(l)\n",
    "\n",
    "f = list(filter((lambda x: x < 0), l))\n",
    "print(f)"
   ]
  },
  {
   "cell_type": "code",
   "execution_count": 8,
   "metadata": {},
   "outputs": [
    {
     "name": "stdout",
     "output_type": "stream",
     "text": [
      "[-5, -4, -3, -2, -1]\n"
     ]
    }
   ],
   "source": [
    "result = []\n",
    "for x in l:\n",
    "    if x < 0:\n",
    "        result.append(x)\n",
    "print(result)"
   ]
  },
  {
   "cell_type": "markdown",
   "metadata": {},
   "source": [
    "Here is another use case for **filter** finding intersection of two lists:"
   ]
  },
  {
   "cell_type": "code",
   "execution_count": 11,
   "metadata": {},
   "outputs": [
    {
     "name": "stdout",
     "output_type": "stream",
     "text": [
      "[2, 3, 5, 7]\n"
     ]
    }
   ],
   "source": [
    "a = [1,2,3,5,7,9]\n",
    "b = [2,3,5,6,7,8]\n",
    "f = list(filter(lambda x: x in a, b))  # prints out [2, 3, 5, 7]\n",
    "print(f)"
   ]
  },
  {
   "cell_type": "markdown",
   "metadata": {},
   "source": [
    "# Reduce\n",
    "\n",
    "The reduce function is a little less obvious in its intent.\n",
    "This function reduces a list to a single value by combining elements via a supplied function.\n",
    "The map function is the simplest one among Python built-ins used for functional programming.\n",
    "\n",
    "The reduce is in the **functools** in Python 3.0.\n",
    "It is more complex.\n",
    "It accepts an iterator to process, but it's not an iterator itself.\n",
    "It returns a single result:"
   ]
  },
  {
   "cell_type": "code",
   "execution_count": 8,
   "metadata": {},
   "outputs": [
    {
     "name": "stdout",
     "output_type": "stream",
     "text": [
      "24\n"
     ]
    }
   ],
   "source": [
    "from functools import reduce\n",
    "r = reduce( (lambda x, y: x * y), [1, 2, 3, 4] )\n",
    "print(r)"
   ]
  },
  {
   "cell_type": "markdown",
   "metadata": {},
   "source": [
    "At each step, **reduce** passes the current product or division, along with the next item from the list, to the passed-in **lambda** function.\n",
    "By default, the first item in the sequence initialized the starting value.\n",
    "\n",
    "Here's the for loop version of the first of these calls, with the multiplication hardcoded inside the loop:"
   ]
  },
  {
   "cell_type": "code",
   "execution_count": 13,
   "metadata": {},
   "outputs": [
    {
     "name": "stdout",
     "output_type": "stream",
     "text": [
      "24\n"
     ]
    }
   ],
   "source": [
    "L = [1, 2, 3, 4]\n",
    "result = L[0]\n",
    "\n",
    "for x in L[1:]:\n",
    "    result = result * x\n",
    "\n",
    "print(result)"
   ]
  },
  {
   "cell_type": "markdown",
   "metadata": {},
   "source": [
    "We can concatenate a list of strings to make a sentence. Using the Dijkstra's famous quote on bug:"
   ]
  },
  {
   "cell_type": "code",
   "execution_count": 9,
   "metadata": {},
   "outputs": [
    {
     "name": "stdout",
     "output_type": "stream",
     "text": [
      "Testing shows the presence, not the absence of bugs\n"
     ]
    }
   ],
   "source": [
    "L = ['Testing ', 'shows ', 'the ', 'presence', ', ','not ', 'the ', 'absence ', 'of ', 'bugs']\n",
    "r = reduce( (lambda x,y:x+y), L)\n",
    "print(r)"
   ]
  },
  {
   "cell_type": "markdown",
   "metadata": {},
   "source": [
    "# Further resources\n",
    "\n",
    "1. [W3 Python Lambda](https://www.w3schools.com/python/python_lambda.asp)\n",
    "2. [Lambda Expressions](https://docs.python.org/3.7/tutorial/controlflow.html#lambda-expressions)\n",
    "3. [Map](https://docs.python.org/3.7/library/functions.html#map)\n",
    "4. [Filter](https://docs.python.org/3.7/library/functions.html#filter)\n",
    "5. [Functional Programming HOWTO](https://docs.python.org/3.7/howto/functional.html)"
   ]
  }
 ],
 "metadata": {
  "kernelspec": {
   "display_name": "Python 3",
   "language": "python",
   "name": "python3"
  },
  "language_info": {
   "codemirror_mode": {
    "name": "ipython",
    "version": 3
   },
   "file_extension": ".py",
   "mimetype": "text/x-python",
   "name": "python",
   "nbconvert_exporter": "python",
   "pygments_lexer": "ipython3",
   "version": "3.7.5"
  }
 },
 "nbformat": 4,
 "nbformat_minor": 2
}
