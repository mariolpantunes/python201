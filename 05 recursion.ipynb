{
 "cells": [
  {
   "cell_type": "markdown",
   "metadata": {},
   "source": [
    "# Recursion\n",
    "\n",
    "Recursion is a technique for performing repetitive calculations.\n",
    "You should already be familiar with another way to perform repetitive, loops.\n",
    "**For** and **while** loops are two ways to use iteration in Python.\n",
    "The characteristic that distinguishes a recursive function from an iterative solution is that the recursive function calls itself.\n",
    "\n",
    "Some problems are naturally amenable to recursive solutions, the canonical example is calculating factorials.\n",
    "\n",
    "## Factorials\n",
    "\n",
    "Factorials show up all over the place in computer science and math.\n",
    "Example:\n",
    "$$4! = 4\\times3\\times2\\times1 = 24$$\n",
    "\n",
    "In general factorials have this form:\n",
    "$$n! = n\\times(n-1)\\times(n-2) ... \\times2\\times1$$\n",
    "The problem with that definition is the \"...\".\n",
    "\n",
    "A human reader knows how to interpret it but we'll need to be more precise if we want to solve factorials with a computer.\n",
    "So how can we express the factorial function unambiguously?\n",
    "\n",
    "If we take another look at the last formula we notice that there's a way to rewrite it:\n",
    "$$n! = n\\times(n-1)!$$\n",
    "\n",
    "This obviously doesn't solve our problem though, it's a circular definition.\n",
    "If we add in one more bit though we'll have a definition that works:\n",
    "$$n! = 1, n=0$$\n",
    "$$n! = n\\times(n-1)!, n>0$$\n",
    "\n",
    "So long as we use a whole number for n, this definition works.\n",
    "The first part of the definition, calld the base case, works in the simplest case.\n",
    "The second part of the definition, called the recursive case, works towards the bsae case.\n",
    "\n",
    "Let's put this into code to see how it works."
   ]
  },
  {
   "cell_type": "code",
   "execution_count": 15,
   "metadata": {},
   "outputs": [],
   "source": [
    "def recursive_factorial(n):\n",
    "    if n is 0:\n",
    "        return 1\n",
    "    else:\n",
    "        return n*recursive_factorial(n-1)"
   ]
  },
  {
   "cell_type": "code",
   "execution_count": 17,
   "metadata": {
    "collapsed": true
   },
   "outputs": [
    {
     "name": "stdout",
     "output_type": "stream",
     "text": [
      "120\n"
     ]
    }
   ],
   "source": [
    "print recursive_factorial(5)"
   ]
  },
  {
   "cell_type": "code",
   "execution_count": null,
   "metadata": {},
   "outputs": [],
   "source": [
    "def iterative_factorial(n):\n",
    "    result = 1\n",
    "    for i in range(1, n+1):\n",
    "        result *= i\n",
    "    return result"
   ]
  },
  {
   "cell_type": "code",
   "execution_count": 85,
   "metadata": {},
   "outputs": [
    {
     "name": "stdout",
     "output_type": "stream",
     "text": [
      "120\n"
     ]
    }
   ],
   "source": [
    "print iterative_factorial(5)"
   ]
  },
  {
   "cell_type": "code",
   "execution_count": 20,
   "metadata": {},
   "outputs": [],
   "source": [
    "def fibonacci(n):\n",
    "    if n == 0:\n",
    "        return 0\n",
    "    if n == 1:\n",
    "        return 1\n",
    "    else:\n",
    "        return fibonacci(n-1) + fibonacci(n-2)"
   ]
  },
  {
   "cell_type": "code",
   "execution_count": 79,
   "metadata": {},
   "outputs": [
    {
     "data": {
      "text/plain": [
       "3"
      ]
     },
     "execution_count": 79,
     "metadata": {},
     "output_type": "execute_result"
    }
   ],
   "source": [
    "fibonacci(4)"
   ]
  },
  {
   "cell_type": "code",
   "execution_count": 37,
   "metadata": {},
   "outputs": [],
   "source": [
    "def iterative_fibonacci(n):\n",
    "    if n == 0:\n",
    "        return 0\n",
    "    if n == 1:\n",
    "        return 1\n",
    "    \n",
    "    total_so_far = 1\n",
    "    one_back = 1\n",
    "    two_back = 0\n",
    "    \n",
    "    for i in range(2,n+1):\n",
    "        total_so_far = (one_back + two_back)\n",
    "        two_back = one_back\n",
    "        one_back = total\n",
    "    \n",
    "    return total_so_far"
   ]
  },
  {
   "cell_type": "code",
   "execution_count": 81,
   "metadata": {},
   "outputs": [
    {
     "data": {
      "text/plain": [
       "433494437"
      ]
     },
     "execution_count": 81,
     "metadata": {},
     "output_type": "execute_result"
    }
   ],
   "source": [
    "iterative_fibonacci(43)"
   ]
  },
  {
   "cell_type": "code",
   "execution_count": 1,
   "metadata": {},
   "outputs": [],
   "source": [
    "def is_palindrome(s):\n",
    "    if s =='':\n",
    "        return True\n",
    "    else:\n",
    "        if s[0] == s[-1]:\n",
    "            return is_palindrome(s[1:-1])\n",
    "        else:\n",
    "            return False"
   ]
  },
  {
   "cell_type": "code",
   "execution_count": 2,
   "metadata": {},
   "outputs": [
    {
     "name": "stdout",
     "output_type": "stream",
     "text": [
      "False\n",
      "True\n"
     ]
    }
   ],
   "source": [
    "print(is_palindrome('python'))\n",
    "print(is_palindrome('abba'))"
   ]
  }
 ],
 "metadata": {
  "kernelspec": {
   "display_name": "Python 3",
   "language": "python",
   "name": "python3"
  },
  "language_info": {
   "codemirror_mode": {
    "name": "ipython",
    "version": 3
   },
   "file_extension": ".py",
   "mimetype": "text/x-python",
   "name": "python",
   "nbconvert_exporter": "python",
   "pygments_lexer": "ipython3",
   "version": "3.7.5"
  }
 },
 "nbformat": 4,
 "nbformat_minor": 1
}
