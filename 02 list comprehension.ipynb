{
 "cells": [
  {
   "cell_type": "markdown",
   "metadata": {},
   "source": [
    "# A Closer Look at Python List Comprehensions\n",
    "\n",
    "Inspired by Trey Hunner's blog post (https://treyhunner.com/2015/12/python-list-comprehensions-now-in-color/), I'm taking a bit deeper look into list comprehensions. List comprehensions in Python are definitely not syntatic sugar. They are executed in a very different way than a for loop, and are faster. Stay with me and let's see why.\n",
    "\n",
    "I ran this notebook on my 21\" iMac Retina.\n",
    "\n",
    "## An Explicit Loop\n",
    "\n",
    "We start with a typical task in Python - transform an existing list into a new one."
   ]
  },
  {
   "cell_type": "code",
   "execution_count": 1,
   "metadata": {},
   "outputs": [],
   "source": [
    "def func(item):\n",
    "    return item > 0\n",
    "\n",
    "old_list = range(1, 10000)\n",
    "\n",
    "def f1(my_list):\n",
    "    new_list = []\n",
    "    for item in my_list:\n",
    "        if func(item):\n",
    "            new_list.append(item)\n",
    "    return new_list"
   ]
  },
  {
   "cell_type": "markdown",
   "metadata": {},
   "source": [
    "Let's use the dis module to examine what's going on at the byte code level."
   ]
  },
  {
   "cell_type": "code",
   "execution_count": 2,
   "metadata": {},
   "outputs": [
    {
     "name": "stdout",
     "output_type": "stream",
     "text": [
      "  7           0 BUILD_LIST               0\n",
      "              3 STORE_FAST               1 (new_list)\n",
      "\n",
      "  8           6 SETUP_LOOP              39 (to 48)\n",
      "              9 LOAD_FAST                0 (my_list)\n",
      "             12 GET_ITER\n",
      "        >>   13 FOR_ITER                31 (to 47)\n",
      "             16 STORE_FAST               2 (item)\n",
      "\n",
      "  9          19 LOAD_GLOBAL              0 (func)\n",
      "             22 LOAD_FAST                2 (item)\n",
      "             25 CALL_FUNCTION            1 (1 positional, 0 keyword pair)\n",
      "             28 POP_JUMP_IF_FALSE       13\n",
      "\n",
      " 10          31 LOAD_FAST                1 (new_list)\n",
      "             34 LOAD_ATTR                1 (append)\n",
      "             37 LOAD_FAST                2 (item)\n",
      "             40 CALL_FUNCTION            1 (1 positional, 0 keyword pair)\n",
      "             43 POP_TOP\n",
      "             44 JUMP_ABSOLUTE           13\n",
      "        >>   47 POP_BLOCK\n",
      "\n",
      " 11     >>   48 LOAD_FAST                1 (new_list)\n",
      "             51 RETURN_VALUE\n"
     ]
    }
   ],
   "source": [
    "import dis\n",
    "dis.dis(f1)"
   ]
  },
  {
   "cell_type": "markdown",
   "metadata": {},
   "source": [
    "Whew! That's a lot of byte codes. The first column is the line number from the code fragment we entered. There's not much documentation on the rest of the output, but it's simple enough to see what's going on.\n",
    "\n",
    "First, LOAD_CONST loads a constant into the stack. BUILD_LIST takes the constants and builds a list, which STORE_FAST pushes on the stack. This is the byte code corresponding to line 3. We next begin with line 9, which creates an empty list.\n",
    "\n",
    "Line 6 sets up the loop, which ends at bytecode line 48 in our listing, and LOAD_FAST pushes a reference onto the stack. Next, get the iterator, and we start the loop. FOR_ITER calls next() on the iteratable object (in this case a list), and pushes it onto the stack.\n",
    "\n",
    "There are a few other bookkeeping calls here, but note the LOAD_ATTR byte code. This loads the append() function from the virtual table for the list object. As we shall see below, this is the biggest bottleneck for performance.\n",
    "\n",
    "The complete list of byte codes for version 3.5 is https://docs.python.org/3.5/library/dis.html. Take a look at this page and take a further look at the byte codes as we go along."
   ]
  },
  {
   "cell_type": "markdown",
   "metadata": {},
   "source": [
    "## A Simple Performance Gain\n",
    "\n",
    "We note above that line 34 loads an attribute - the append method of list - every time the loop is executed. This is the first topic we investigate. First let's load the timeit module and see how it's used."
   ]
  },
  {
   "cell_type": "code",
   "execution_count": 3,
   "metadata": {
    "collapsed": true
   },
   "outputs": [],
   "source": [
    "import timeit"
   ]
  },
  {
   "cell_type": "markdown",
   "metadata": {},
   "source": [
    "The [`timeit`](https://docs.python.org/3/library/timeit.html) module disables garbage collection.\n",
    "\n",
    "Now we make a small change to the function defined above, and time both of them."
   ]
  },
  {
   "cell_type": "code",
   "execution_count": 4,
   "metadata": {
    "collapsed": true
   },
   "outputs": [],
   "source": [
    "def f2(my_list):\n",
    "    new_list = []\n",
    "    my_append = new_list.append\n",
    "    for item in my_list:\n",
    "        if func(item):\n",
    "            my_append(item)\n",
    "    return new_list"
   ]
  },
  {
   "cell_type": "markdown",
   "metadata": {},
   "source": [
    "First we time the original loop."
   ]
  },
  {
   "cell_type": "code",
   "execution_count": 5,
   "metadata": {},
   "outputs": [
    {
     "data": {
      "text/plain": [
       "33.73541982700408"
      ]
     },
     "execution_count": 5,
     "metadata": {},
     "output_type": "execute_result"
    }
   ],
   "source": [
    "timeit.timeit(stmt=\"f1(old_list)\", setup=\"from __main__ import f1; from __main__ import old_list\", number=20000)"
   ]
  },
  {
   "cell_type": "markdown",
   "metadata": {},
   "source": [
    "Next, we time the new incarnation, by loading the attribute before the loop starts."
   ]
  },
  {
   "cell_type": "code",
   "execution_count": 6,
   "metadata": {},
   "outputs": [
    {
     "data": {
      "text/plain": [
       "27.061378504993627"
      ]
     },
     "execution_count": 6,
     "metadata": {},
     "output_type": "execute_result"
    }
   ],
   "source": [
    "timeit.timeit(stmt=\"f2(old_list)\", setup=\"from __main__ import f2; from __main__ import old_list\", number=20000)"
   ]
  },
  {
   "cell_type": "markdown",
   "metadata": {},
   "source": [
    "Caching the method lookup saves about six seconds.\n",
    "\n",
    "We should note here that timeit turns off garbage collection while running the statement. This eliminates a lot of ambiguity in the timings. There's also no caching and the setup code is run once.\n",
    "\n",
    "Additionally, here are the actual byte codes, for your amusement and enlightenment."
   ]
  },
  {
   "cell_type": "code",
   "execution_count": 7,
   "metadata": {},
   "outputs": [
    {
     "name": "stdout",
     "output_type": "stream",
     "text": [
      "  2           0 BUILD_LIST               0\n",
      "              3 STORE_FAST               1 (new_list)\n",
      "\n",
      "  3           6 LOAD_FAST                1 (new_list)\n",
      "              9 LOAD_ATTR                0 (append)\n",
      "             12 STORE_FAST               2 (my_append)\n",
      "\n",
      "  4          15 SETUP_LOOP              36 (to 54)\n",
      "             18 LOAD_FAST                0 (my_list)\n",
      "             21 GET_ITER\n",
      "        >>   22 FOR_ITER                28 (to 53)\n",
      "             25 STORE_FAST               3 (item)\n",
      "\n",
      "  5          28 LOAD_GLOBAL              1 (func)\n",
      "             31 LOAD_FAST                3 (item)\n",
      "             34 CALL_FUNCTION            1 (1 positional, 0 keyword pair)\n",
      "             37 POP_JUMP_IF_FALSE       22\n",
      "\n",
      "  6          40 LOAD_FAST                2 (my_append)\n",
      "             43 LOAD_FAST                3 (item)\n",
      "             46 CALL_FUNCTION            1 (1 positional, 0 keyword pair)\n",
      "             49 POP_TOP\n",
      "             50 JUMP_ABSOLUTE           22\n",
      "        >>   53 POP_BLOCK\n",
      "\n",
      "  7     >>   54 LOAD_FAST                1 (new_list)\n",
      "             57 RETURN_VALUE\n"
     ]
    }
   ],
   "source": [
    "dis.dis(f2)"
   ]
  },
  {
   "cell_type": "markdown",
   "metadata": {},
   "source": [
    "We see from line 40 that we're doing a pointer load instead of looking up an attribute.\n",
    "\n",
    "## The Next Step - List Comprehension\n",
    "\n",
    "As we stated before, a list comprehension is not simply syntatic sugar, but is used very differently at the byte code level. Let's see why."
   ]
  },
  {
   "cell_type": "code",
   "execution_count": 8,
   "metadata": {},
   "outputs": [],
   "source": [
    "def f3(my_list):\n",
    "    return [item for item in my_list if func(item)]"
   ]
  },
  {
   "cell_type": "code",
   "execution_count": 9,
   "metadata": {},
   "outputs": [
    {
     "data": {
      "text/plain": [
       "25.034677872012253"
      ]
     },
     "execution_count": 9,
     "metadata": {},
     "output_type": "execute_result"
    }
   ],
   "source": [
    "timeit.timeit(stmt=\"f3(old_list)\", setup=\"from __main__ import f3; from __main__ import old_list\", number=20000)"
   ]
  },
  {
   "cell_type": "markdown",
   "metadata": {},
   "source": [
    "We picked up a bit of time here, but not as much as expected. However, the gain over the original function is quite significant. But let's see those byte codes."
   ]
  },
  {
   "cell_type": "code",
   "execution_count": 10,
   "metadata": {},
   "outputs": [
    {
     "name": "stdout",
     "output_type": "stream",
     "text": [
      "  2           0 LOAD_CONST               1 (<code object <listcomp> at 0x104ba6780, file \"<ipython-input-8-8c46db21b7b3>\", line 2>)\n",
      "              3 LOAD_CONST               2 ('f3.<locals>.<listcomp>')\n",
      "              6 MAKE_FUNCTION            0\n",
      "              9 LOAD_FAST                0 (my_list)\n",
      "             12 GET_ITER\n",
      "             13 CALL_FUNCTION            1 (1 positional, 0 keyword pair)\n",
      "             16 RETURN_VALUE\n"
     ]
    }
   ],
   "source": [
    "dis.dis(f3)"
   ]
  },
  {
   "cell_type": "markdown",
   "metadata": {},
   "source": [
    "There's much less code here, but you can see the CALL_FUNCTION is used, and there's no loop iterator set up. The loop is performed at the C level, not in the byte codes.\n",
    "\n",
    "At this point, we can definitively say that when optimizing for performance, both a list comprehension and caching method lookups result in significant gains. You can imagine that these gains are important when doing anything with large datasets.\n",
    "\n",
    "## Conclusion\n",
    "\n",
    "1. Prefer list comprehensions for speed and Pythonic code.\n",
    "2. If you can't write a loop as a list comprehension, cache methods to avoid lookups in the vtable.\n",
    "3. You can use a list comprehension to loop over two lists.\n",
    "4. The same principles apply for dictionary and set comprehensions."
   ]
  }
 ],
 "metadata": {
  "anaconda-cloud": {},
  "kernelspec": {
   "display_name": "Python 3",
   "language": "python",
   "name": "python3"
  },
  "language_info": {
   "codemirror_mode": {
    "name": "ipython",
    "version": 3
   },
   "file_extension": ".py",
   "mimetype": "text/x-python",
   "name": "python",
   "nbconvert_exporter": "python",
   "pygments_lexer": "ipython3",
   "version": "3.7.5"
  }
 },
 "nbformat": 4,
 "nbformat_minor": 1
}
