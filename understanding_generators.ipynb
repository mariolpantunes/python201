{
 "cells": [
  {
   "cell_type": "markdown",
   "metadata": {},
   "source": [
    "# Generators\n",
    "\n",
    "In computer science, a generator is a special routine that can be used to control the iteration behavior of a loop.\n",
    "\n",
    "A generator is very similar to a function that returns an array, in that a generator has parameters, can be called, and generates a sequence of values. However, instead of building an array containing all the values and returning them all at once, a generator yields the values one at a time, which requires less memory and allows the caller to get started processing the first few values immediately. In short, a generator looks like a function but behaves like an iterator.\n",
    "\n",
    "Python provides tools that produce results only when needed:\n",
    "1. **Generator functions:** They are coded as normal **def** but use **yield** to return results one at a time, suspending and resuming.\n",
    "2. **Generator expressions:** These are similar to the list comprehensions. But they return an object that produces results on demand instead of building a result list.\n",
    "\n",
    "Because neither of them constructs a result list all at once, they save memory space and allow computation time to be split by implementing the **iteration protocol.**\n",
    "\n",
    "## Generator Functions: yield vs. return\n",
    "\n",
    "We can write functions that send back a value and later be resumed by picking up where they left off. Such functions are called **generator functions** because they generate a sequence of values over time.\n",
    "\n",
    "Generator functions are not much different from normal functions and they use defs. When created, however, they are automatically made to implement the iteration protocol so that they can appear in iteration contexts.\n",
    "\n",
    "Normal functions return a value and then exit. But generator functions automatically **suspend and resume** their execution. Because of that, they are often a useful alternative to both computing an entire series of values up front and manually saving and restoring state in classes. Because the state that generator functions retain when they are suspended includes their local scope, their local variables retain information and make it available when the functions are resumed.\n",
    "\n",
    "The primary difference between generator and normal functions is that a generator **yields** a value, rather than **returns** a value. The yield suspends the function and sends a value back to the caller while retains enough state to enable the function immediately after the last yield run. This allows the generator function to produce a series of values over time rather than computing them all at once and sending them back in a list.\n",
    "\n",
    "Generators are closely bound up with the iteration protocol. Iterable objects define a **__next__()** method which either returns the next item in the iterator or raises the special **StopIteration** exception to end the iteration. An object's iterator is fetched with the **iter** built-in function.\n",
    "\n",
    "The **for** loops use this iteration protocol to step through a sequence or value generator if the protocol is suspended. Otherwise, iteration falls back on repeatedly indexing sequences.\n",
    "\n",
    "To support this protocol, functions with yield statement are compiled specially as generators. They return a generator object when they are called. The returned object supports the iteration interface with an automatically created __next__() method to resume execution. Generator functions may have a return simply terminates the generation of values by raising a StopIteration exceptions after any normal function exit.\n",
    "\n",
    "The net effect is that generator functions, coded as def statements containing yield statement, are automatically made to support the iteration protocol and thus may be used any iteration context to produce results over time and on demand.\n",
    "\n",
    "Let's look at the interactive example below:"
   ]
  },
  {
   "cell_type": "code",
   "execution_count": 2,
   "metadata": {},
   "outputs": [
    {
     "name": "stdout",
     "output_type": "stream",
     "text": [
      "<generator object create_counter at 0x7fe13b894eb0>\n",
      "create_counter()\n",
      "2\n",
      "increment n\n",
      "3\n",
      "increment n\n",
      "4\n"
     ]
    }
   ],
   "source": [
    "def create_counter(n):\n",
    "    print('create_counter()')\n",
    "    while True:\n",
    "        yield n\n",
    "        print('increment n')\n",
    "        n += 1\n",
    "\n",
    "c = create_counter(2)\n",
    "print(c)\n",
    "\n",
    "print(next(c))\n",
    "print(next(c))\n",
    "print(next(c))"
   ]
  },
  {
   "cell_type": "markdown",
   "metadata": {},
   "source": [
    "Here are the things happening in the code:\n",
    "1. The presence of the yield keyword in create_counter() means that this is not a normal function. It is a special kind of function which generates values one at a time. We can think of it as a resumable function. Calling it will return a generator that can be used to generate successive values of n.\n",
    "2. To create an instance of the create_counter() generator, just call it like any other function. Note that this does not actually execute the function code. We can tell this because the first line of the create_counter() function calls print(), but nothing was printed from the line:"
   ]
  },
  {
   "cell_type": "code",
   "execution_count": 3,
   "metadata": {},
   "outputs": [],
   "source": [
    "c = create_counter(2)"
   ]
  },
  {
   "cell_type": "markdown",
   "metadata": {},
   "source": [
    "3. The create_counter() function returns a generator object.\n",
    "4. The next() function takes a generator object and returns its next value. The first time we call next() with the counter generator, it executes the code in create_counter() up to the first yield statement, then returns the value that was yielded. In this case, that will be 2, because we originally created the generator by calling create_counter(2).\n",
    "5. Repeatedly calling next() with the same generator object resumes exactly where it left off and continues until it hits the next yield statement. All variables, local state, &c.; are saved on yield and restored on next(). The next line of code waiting to be executed calls print(), which prints increment n. After that, the statement n += 1. Then it loops through the while loop again, and the first thing it hits is the statement yield n, which saves the state of everything and returns the current value of n (now 3).\n",
    "6. The second time we call next(c), we do all the same things again, but this time n is now 4.\n",
    "7. Since create_counter() sets up an infinite loop, we could theoretically do this forever, and it would just keep incrementing n and spitting out values. "
   ]
  },
  {
   "cell_type": "markdown",
   "metadata": {},
   "source": [
    "## Generator Expressions: Iterators with Comprehensions\n",
    "\n",
    "The notions of iterators and list comprehensions have been combined in a new feature, **generator expressions**. Generator expressions are similar to list comprehensions, but they are enclosed in parentheses instead of square brackets:"
   ]
  },
  {
   "cell_type": "code",
   "execution_count": 4,
   "metadata": {},
   "outputs": [
    {
     "name": "stdout",
     "output_type": "stream",
     "text": [
      "[0, 1, 8, 27, 64]\n",
      "<generator object <genexpr> at 0x7fe123ff42e0>\n"
     ]
    }
   ],
   "source": [
    "# List comprehension makes a list\n",
    "l = [ x ** 3 for x in range(5)]\n",
    "print(l)\n",
    "\n",
    "# Generator expression makes an iterable\n",
    "g = (x ** 3 for x in range(5))\n",
    "print(g)"
   ]
  },
  {
   "cell_type": "markdown",
   "metadata": {},
   "source": [
    "Actually, coding a list comprehension is essentially the same as wrapping a generator expression in a **list** built-in call to force it to produce all its results in a list at once:"
   ]
  },
  {
   "cell_type": "code",
   "execution_count": 5,
   "metadata": {},
   "outputs": [
    {
     "data": {
      "text/plain": [
       "[0, 1, 8, 27, 64]"
      ]
     },
     "execution_count": 5,
     "metadata": {},
     "output_type": "execute_result"
    }
   ],
   "source": [
    "list(x ** 3 for x in range(5))"
   ]
  },
  {
   "cell_type": "markdown",
   "metadata": {},
   "source": [
    "But in terms of operation, generator expressions are very different. Instead of building the result list in memory, they return a generator object. The returned object supports the **iteration protocol** to yield one piece of the result list at a time in any iteration context:"
   ]
  },
  {
   "cell_type": "code",
   "execution_count": 6,
   "metadata": {},
   "outputs": [
    {
     "name": "stdout",
     "output_type": "stream",
     "text": [
      "0\n",
      "1\n",
      "8\n",
      "27\n",
      "64\n"
     ]
    }
   ],
   "source": [
    "Generator = (x ** 3 for x in range(5))\n",
    "print(next(Generator))\n",
    "print(next(Generator))\n",
    "print(next(Generator))\n",
    "print(next(Generator))\n",
    "print(next(Generator))"
   ]
  },
  {
   "cell_type": "markdown",
   "metadata": {},
   "source": [
    "Typically, we don't see the **next** iterator machinery under the hood of a generator expression like this because of **for** loops trigger the **next** for us automatically:"
   ]
  },
  {
   "cell_type": "code",
   "execution_count": 7,
   "metadata": {},
   "outputs": [
    {
     "name": "stdout",
     "output_type": "stream",
     "text": [
      "0, 0\n",
      "1, 1\n",
      "8, 64\n",
      "27, 729\n",
      "64, 4096\n"
     ]
    }
   ],
   "source": [
    "for n in (x ** 3 for x in range(5)):\n",
    "    print('%s, %s' % (n, n * n))"
   ]
  },
  {
   "cell_type": "markdown",
   "metadata": {},
   "source": [
    "Generator expressions are a memory-space optimization. They do not require the entire result list to be constructed all at once while the square-bracketed list comprehension does. They may also run slightly slower in practice, so they are probably best used only for very large result sets."
   ]
  },
  {
   "cell_type": "markdown",
   "metadata": {},
   "source": [
    "## Generator: Functions vs. Expressions\n",
    "\n",
    "The same iteration can be coded with either a generator function or a generator expression. Let's look at the following example which repeats each character in a string five times:"
   ]
  },
  {
   "cell_type": "code",
   "execution_count": 8,
   "metadata": {},
   "outputs": [
    {
     "data": {
      "text/plain": [
       "['PPPPP', 'yyyyy', 'ttttt', 'hhhhh', 'ooooo', 'nnnnn']"
      ]
     },
     "execution_count": 8,
     "metadata": {},
     "output_type": "execute_result"
    }
   ],
   "source": [
    "G = (c * 5 for c in 'Python')\n",
    "list(G)"
   ]
  },
  {
   "cell_type": "markdown",
   "metadata": {},
   "source": [
    "The equivalent **generator function** requires a little bit more code but as a multistatement function, it will be able to code more logic and use more state information if needed:"
   ]
  },
  {
   "cell_type": "code",
   "execution_count": 9,
   "metadata": {},
   "outputs": [
    {
     "data": {
      "text/plain": [
       "['PPPPP', 'yyyyy', 'ttttt', 'hhhhh', 'ooooo', 'nnnnn']"
      ]
     },
     "execution_count": 9,
     "metadata": {},
     "output_type": "execute_result"
    }
   ],
   "source": [
    "def repeat5times(x):\n",
    "    for c in x:\n",
    "        yield c * 5\n",
    "G = repeat5times('Python')\n",
    "list(G)"
   ]
  },
  {
   "cell_type": "markdown",
   "metadata": {},
   "source": [
    "Both expressions and functions support automatic and manual iteration. The **list** we've got in the above example iterated automatically."
   ]
  },
  {
   "cell_type": "code",
   "execution_count": null,
   "metadata": {},
   "outputs": [],
   "source": []
  }
 ],
 "metadata": {
  "kernelspec": {
   "display_name": "Python 3",
   "language": "python",
   "name": "python3"
  },
  "language_info": {
   "codemirror_mode": {
    "name": "ipython",
    "version": 3
   },
   "file_extension": ".py",
   "mimetype": "text/x-python",
   "name": "python",
   "nbconvert_exporter": "python",
   "pygments_lexer": "ipython3",
   "version": "3.8.1"
  }
 },
 "nbformat": 4,
 "nbformat_minor": 4
}
