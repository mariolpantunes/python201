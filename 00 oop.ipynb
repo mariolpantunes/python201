{
 "cells": [
  {
   "cell_type": "markdown",
   "metadata": {},
   "source": [
    "# Object Oriented Programming\n",
    "\n",
    "## Basic Python\n",
    "\n",
    "1. Variables;\n",
    "2. Flow Control;\n",
    "3. Functions;\n",
    "4. Data structure.\n",
    "\n",
    "## Basic Object Oriented Programming\n",
    "\n",
    "1. Classes;\n",
    "2. Attributes;\n",
    "3. Methods;\n",
    "4. Inheritance.\n",
    "\n",
    "## Overview of Python\n",
    "\n",
    "What is Python?\n",
    "\n",
    "Python is a programming language.\n",
    "A programming language allows you to write a program which is a sequence of instructions that specifies how to perform a computation.\n",
    "\n",
    "When writing a program you need two things:\n",
    "\n",
    "1. Something to save the code (a text editor for example)\n",
    "2. Something to run the code\n",
    "\n",
    "We will be using a combination of these 2 things called notebooks."
   ]
  },
  {
   "cell_type": "code",
   "execution_count": 4,
   "metadata": {},
   "outputs": [
    {
     "name": "stdout",
     "output_type": "stream",
     "text": [
      "ola\n"
     ]
    },
    {
     "data": {
      "text/plain": [
       "8"
      ]
     },
     "execution_count": 4,
     "metadata": {},
     "output_type": "execute_result"
    }
   ],
   "source": [
    "print('ola')\n",
    "2**3"
   ]
  },
  {
   "cell_type": "markdown",
   "metadata": {},
   "source": [
    "## Variables\n",
    "\n",
    "### Character variables:"
   ]
  },
  {
   "cell_type": "code",
   "execution_count": 12,
   "metadata": {},
   "outputs": [
    {
     "name": "stdout",
     "output_type": "stream",
     "text": [
      "(4-1j)\n",
      "Hello world\n",
      "Hello world\n",
      "Hello world\n",
      "Hello world\n"
     ]
    }
   ],
   "source": [
    "string = \"Hello world\"\n",
    "num = complex(2,-3) + complex(2,2)\n",
    "print(num)\n",
    "print(string)\n",
    "print(string)\n",
    "print(string)\n",
    "print(string)"
   ]
  },
  {
   "cell_type": "markdown",
   "metadata": {},
   "source": [
    "### Numeric variables:"
   ]
  },
  {
   "cell_type": "code",
   "execution_count": 5,
   "metadata": {},
   "outputs": [
    {
     "data": {
      "text/plain": [
       "5.5"
      ]
     },
     "execution_count": 5,
     "metadata": {},
     "output_type": "execute_result"
    }
   ],
   "source": [
    "num_1 = 2\n",
    "num_2 = 3.0\n",
    "num_1 + num_2"
   ]
  },
  {
   "cell_type": "markdown",
   "metadata": {},
   "source": [
    "### String manipulation"
   ]
  },
  {
   "cell_type": "code",
   "execution_count": 17,
   "metadata": {},
   "outputs": [
    {
     "data": {
      "text/plain": [
       "' '"
      ]
     },
     "execution_count": 17,
     "metadata": {},
     "output_type": "execute_result"
    }
   ],
   "source": [
    "#We define a variable called String \n",
    "# (note that # allows me to comment my code)\n",
    "string = \"My name is Vince\"\n",
    "#Let's get the 5th letter of String \n",
    "# (Note that Python starts counting at 0):\n",
    "string[2]"
   ]
  },
  {
   "cell_type": "code",
   "execution_count": 16,
   "metadata": {},
   "outputs": [
    {
     "data": {
      "text/plain": [
       "'y n'"
      ]
     },
     "execution_count": 16,
     "metadata": {},
     "output_type": "execute_result"
    }
   ],
   "source": [
    "string[1:4]"
   ]
  },
  {
   "cell_type": "code",
   "execution_count": 19,
   "metadata": {},
   "outputs": [
    {
     "data": {
      "text/plain": [
       "11"
      ]
     },
     "execution_count": 19,
     "metadata": {},
     "output_type": "execute_result"
    }
   ],
   "source": [
    "index_of_v = string.index(\"V\")\n",
    "index_of_v"
   ]
  },
  {
   "cell_type": "code",
   "execution_count": 20,
   "metadata": {},
   "outputs": [
    {
     "name": "stdout",
     "output_type": "stream",
     "text": [
      "Vince\n",
      "My name is \n"
     ]
    }
   ],
   "source": [
    "print(string[index_of_v:])\n",
    "print(string[:index_of_v])"
   ]
  },
  {
   "cell_type": "markdown",
   "metadata": {},
   "source": [
    "### Numeric manipulation"
   ]
  },
  {
   "cell_type": "code",
   "execution_count": 12,
   "metadata": {},
   "outputs": [
    {
     "data": {
      "text/plain": [
       "5"
      ]
     },
     "execution_count": 12,
     "metadata": {},
     "output_type": "execute_result"
    }
   ],
   "source": [
    "num = 3\n",
    "\n",
    "# The following two lines are equivalent\n",
    "num = num + 1\n",
    "num += 1\n",
    "num"
   ]
  },
  {
   "cell_type": "code",
   "execution_count": 13,
   "metadata": {},
   "outputs": [
    {
     "data": {
      "text/plain": [
       "81"
      ]
     },
     "execution_count": 13,
     "metadata": {},
     "output_type": "execute_result"
    }
   ],
   "source": [
    "num -= 2\n",
    "num *= 3\n",
    "num **= 2\n",
    "num"
   ]
  },
  {
   "cell_type": "markdown",
   "metadata": {},
   "source": [
    "## Flow control\n",
    "\n",
    "- In Python indentation is important!\n",
    "- In all languages indentation is good practice, in Python it is a requirement.\n",
    "\n",
    "### If statements"
   ]
  },
  {
   "cell_type": "code",
   "execution_count": 18,
   "metadata": {},
   "outputs": [
    {
     "data": {
      "text/plain": [
       "2"
      ]
     },
     "execution_count": 18,
     "metadata": {},
     "output_type": "execute_result"
    }
   ],
   "source": [
    "n = 8\n",
    "if n <= 5:\n",
    "    value = 1\n",
    "elif n % 2 == 0:  \n",
    "    value = 2\n",
    "else: \n",
    "    value = 3\n",
    "value"
   ]
  },
  {
   "cell_type": "markdown",
   "metadata": {},
   "source": [
    "### While loops"
   ]
  },
  {
   "cell_type": "code",
   "execution_count": 24,
   "metadata": {},
   "outputs": [
    {
     "data": {
      "text/plain": [
       "5050"
      ]
     },
     "execution_count": 24,
     "metadata": {},
     "output_type": "execute_result"
    }
   ],
   "source": [
    "count = 0  \n",
    "total = 0 \n",
    "while count < 100: \n",
    "    count += 1  \n",
    "    total += count \n",
    "total"
   ]
  },
  {
   "cell_type": "markdown",
   "metadata": {},
   "source": [
    "### For loops"
   ]
  },
  {
   "cell_type": "code",
   "execution_count": 21,
   "metadata": {},
   "outputs": [
    {
     "name": "stdout",
     "output_type": "stream",
     "text": [
      "1\n",
      "2\n",
      "3\n",
      "4\n"
     ]
    }
   ],
   "source": [
    "for i in [1, 2, 3, 4]:\n",
    "    print(i)"
   ]
  },
  {
   "cell_type": "code",
   "execution_count": 26,
   "metadata": {},
   "outputs": [
    {
     "name": "stdout",
     "output_type": "stream",
     "text": [
      "Project Management\n"
     ]
    }
   ],
   "source": [
    "for subject in [\"Queueing Theory\", \"Game Theory\", \n",
    "                \"Inventory Theory\", \"Reliability Theory\", \n",
    "                \"Project Management\", \"Decision Analysis\"]:\n",
    "    if \"Theory\" in subject:\n",
    "        print(subject)"
   ]
  },
  {
   "cell_type": "markdown",
   "metadata": {},
   "source": [
    "## Functions"
   ]
  },
  {
   "cell_type": "code",
   "execution_count": 23,
   "metadata": {},
   "outputs": [
    {
     "name": "stdout",
     "output_type": "stream",
     "text": [
      "Hello everybody!\n"
     ]
    }
   ],
   "source": [
    "#To create a function we use the 'def' statement:\n",
    "def hi():\n",
    "    \"\"\"\n",
    "    This function simply prints a short statement. \n",
    "    \n",
    "    This is a shorter way of writing documentation, \n",
    "    it is good practice to always include a \n",
    "    description of what a function does.\n",
    "    \"\"\"\n",
    "    print(\"Hello everybody!\")\n",
    "\n",
    "hi()"
   ]
  },
  {
   "cell_type": "code",
   "execution_count": 24,
   "metadata": {},
   "outputs": [],
   "source": [
    "def fibonacci(n):\n",
    "    \"\"\"\n",
    "    This returns the nth Fibonacci number.\n",
    "    \"\"\"\n",
    "    if n == 0:\n",
    "        return 0\n",
    "    if n == 1:\n",
    "        return 1\n",
    "    return fibonacci(n - 1) + fibonacci(n - 2)"
   ]
  },
  {
   "cell_type": "code",
   "execution_count": 25,
   "metadata": {},
   "outputs": [
    {
     "data": {
      "text/plain": [
       "5"
      ]
     },
     "execution_count": 25,
     "metadata": {},
     "output_type": "execute_result"
    }
   ],
   "source": [
    "fibonacci(5)"
   ]
  },
  {
   "cell_type": "markdown",
   "metadata": {},
   "source": [
    "## Data structures: Lists"
   ]
  },
  {
   "cell_type": "code",
   "execution_count": 26,
   "metadata": {},
   "outputs": [
    {
     "data": {
      "text/plain": [
       "0"
      ]
     },
     "execution_count": 26,
     "metadata": {},
     "output_type": "execute_result"
    }
   ],
   "source": [
    "my_list = list(range(6))\n",
    "my_list[0]"
   ]
  },
  {
   "cell_type": "code",
   "execution_count": 27,
   "metadata": {},
   "outputs": [
    {
     "data": {
      "text/plain": [
       "[0, 1, 2, 3, 4, 5, 100]"
      ]
     },
     "execution_count": 27,
     "metadata": {},
     "output_type": "execute_result"
    }
   ],
   "source": [
    "my_list.append(100)\n",
    "my_list"
   ]
  },
  {
   "cell_type": "markdown",
   "metadata": {},
   "source": [
    "# Object Oriented Programming\n",
    "\n",
    "This is similar to cellular structure:\n",
    "\n",
    "![](resources/cellular_structure.png)\n",
    "\n",
    "We can create \"things\" with:\n",
    "\n",
    "- attributes: things those \"things\" have;\n",
    "- methods: things those \"things\" can do.\n",
    "\n",
    "![](resources/oop.png)\n",
    "\n",
    "## Defining a class"
   ]
  },
  {
   "cell_type": "code",
   "execution_count": 27,
   "metadata": {},
   "outputs": [],
   "source": [
    "class Student():\n",
    "    \"\"\"We can create a simple empty class.\n",
    "    \n",
    "    This is a set of rules that says what a student is.\n",
    "    \"\"\""
   ]
  },
  {
   "cell_type": "code",
   "execution_count": 28,
   "metadata": {
    "tags": [
     "nbval-ignore-output"
    ]
   },
   "outputs": [
    {
     "data": {
      "text/plain": [
       "<__main__.Student at 0x7f7e412290a0>"
      ]
     },
     "execution_count": 28,
     "metadata": {},
     "output_type": "execute_result"
    }
   ],
   "source": [
    "vince = Student()  # Creating an instance\n",
    "vince"
   ]
  },
  {
   "cell_type": "code",
   "execution_count": 29,
   "metadata": {
    "tags": [
     "nbval-ignore-output"
    ]
   },
   "outputs": [
    {
     "data": {
      "text/plain": [
       "<__main__.Student at 0x7f7e41229dc0>"
      ]
     },
     "execution_count": 29,
     "metadata": {},
     "output_type": "execute_result"
    }
   ],
   "source": [
    "zoe = Student()  # Creating a different instance\n",
    "zoe"
   ]
  },
  {
   "cell_type": "markdown",
   "metadata": {},
   "source": [
    "## Attributes"
   ]
  },
  {
   "cell_type": "code",
   "execution_count": 32,
   "metadata": {},
   "outputs": [],
   "source": [
    "class Student():\n",
    "    courses = [\"Biology\", \"Mathematics\", \"English\"]\n",
    "    age = 5\n",
    "    gender = \"Male\"\n",
    "#Let us now create Vince again:\n",
    "vince = Student()"
   ]
  },
  {
   "cell_type": "markdown",
   "metadata": {},
   "source": [
    "Accessing these attributes:"
   ]
  },
  {
   "cell_type": "code",
   "execution_count": 33,
   "metadata": {},
   "outputs": [
    {
     "data": {
      "text/plain": [
       "['Biology', 'Mathematics', 'English']"
      ]
     },
     "execution_count": 33,
     "metadata": {},
     "output_type": "execute_result"
    }
   ],
   "source": [
    "vince.courses"
   ]
  },
  {
   "cell_type": "code",
   "execution_count": 34,
   "metadata": {},
   "outputs": [
    {
     "data": {
      "text/plain": [
       "5"
      ]
     },
     "execution_count": 34,
     "metadata": {},
     "output_type": "execute_result"
    }
   ],
   "source": [
    "vince.age"
   ]
  },
  {
   "cell_type": "code",
   "execution_count": 35,
   "metadata": {},
   "outputs": [
    {
     "data": {
      "text/plain": [
       "'Male'"
      ]
     },
     "execution_count": 35,
     "metadata": {},
     "output_type": "execute_result"
    }
   ],
   "source": [
    "vince.gender"
   ]
  },
  {
   "cell_type": "markdown",
   "metadata": {},
   "source": [
    "We can manipulate these attributes just like **any other** python variable:"
   ]
  },
  {
   "cell_type": "code",
   "execution_count": 38,
   "metadata": {},
   "outputs": [
    {
     "name": "stdout",
     "output_type": "stream",
     "text": [
      "['Biology', 'Mathematics', 'English', 'Photography', 'Photography', 'Photography']\n",
      "['Biology', 'Mathematics', 'English', 'Photography', 'Photography', 'Photography']\n"
     ]
    }
   ],
   "source": [
    "vince.courses.append(\"Photography\")\n",
    "print(vince.courses)\n",
    "zoe = Student()\n",
    "print(zoe.courses)"
   ]
  },
  {
   "cell_type": "code",
   "execution_count": null,
   "metadata": {},
   "outputs": [],
   "source": [
    "vince.age = 28\n",
    "vince.age"
   ]
  },
  {
   "cell_type": "code",
   "execution_count": null,
   "metadata": {},
   "outputs": [],
   "source": [
    "vince.gender = \"M\"\n",
    "vince.gender"
   ]
  },
  {
   "cell_type": "markdown",
   "metadata": {},
   "source": [
    "## The self Parameter\n",
    "\n",
    "The self parameter is a reference to the current instance of the class, and is used to access variables that belongs to the class.\n",
    "\n",
    "It does not have to be named self , you can call it whatever you like, but it has to be the first parameter of any function in the class:"
   ]
  },
  {
   "cell_type": "code",
   "execution_count": 31,
   "metadata": {},
   "outputs": [
    {
     "name": "stdout",
     "output_type": "stream",
     "text": [
      "Hello my name is John and I have 36 years.\n",
      "Hello my name is Oliver and I have 42 years.\n"
     ]
    }
   ],
   "source": [
    "class Person:\n",
    "  def __init__(self, name, age):\n",
    "    self.name = name\n",
    "    self.age = age\n",
    "\n",
    "  def myfunc(self):\n",
    "    print(\"Hello my name is \" + self.name + \" and I have \"+ str(self.age) +\" years.\")\n",
    "\n",
    "p1 = Person(\"John\", 36)\n",
    "p1.myfunc() \n",
    "p2 = Person(\"Oliver\", 42)\n",
    "p2.myfunc() "
   ]
  },
  {
   "cell_type": "markdown",
   "metadata": {},
   "source": [
    "## Methods"
   ]
  },
  {
   "cell_type": "code",
   "execution_count": 32,
   "metadata": {},
   "outputs": [],
   "source": [
    "class Student():\n",
    "    courses = [\"Biology\", \"Mathematics\", \"English\"]\n",
    "    age = 5\n",
    "    sex = \"Male\"\n",
    "    \n",
    "    def __init__(self, age=5):\n",
    "        self.age = age\n",
    "\n",
    "    def have_a_birthday(self):\n",
    "        \"\"\"This method increments the age of our instance.\"\"\"\n",
    "        self.age += 1"
   ]
  },
  {
   "cell_type": "code",
   "execution_count": 33,
   "metadata": {},
   "outputs": [
    {
     "data": {
      "text/plain": [
       "6"
      ]
     },
     "execution_count": 33,
     "metadata": {},
     "output_type": "execute_result"
    }
   ],
   "source": [
    "vince = Student(6)\n",
    "vince.age"
   ]
  },
  {
   "cell_type": "code",
   "execution_count": 34,
   "metadata": {},
   "outputs": [
    {
     "name": "stdout",
     "output_type": "stream",
     "text": [
      "7\n",
      "5\n"
     ]
    }
   ],
   "source": [
    "vince.have_a_birthday()\n",
    "print(vince.age)\n",
    "zoe = Student()\n",
    "print(zoe.age)"
   ]
  },
  {
   "cell_type": "markdown",
   "metadata": {},
   "source": [
    "## The `__init__` method"
   ]
  },
  {
   "cell_type": "code",
   "execution_count": 54,
   "metadata": {},
   "outputs": [],
   "source": [
    "class Student():\n",
    "    def __init__(self, courses, age=None, sex='Male'):\n",
    "        \"\"\"\n",
    "        What the class should do when it \n",
    "        is used to create an instance\n",
    "        \"\"\"\n",
    "        self.courses = courses\n",
    "        self.age = age\n",
    "        self.sex = sex\n",
    "\n",
    "    def have_a_birthday(self):\n",
    "        self.age += 1\n"
   ]
  },
  {
   "cell_type": "code",
   "execution_count": 55,
   "metadata": {},
   "outputs": [
    {
     "data": {
      "text/plain": [
       "(['Biology', 'Math'], 28, 'Male')"
      ]
     },
     "execution_count": 55,
     "metadata": {},
     "output_type": "execute_result"
    }
   ],
   "source": [
    "vince = Student([\"Biology\",\"Math\"],28,\"Male\")\n",
    "vince.courses, vince.age, vince.sex"
   ]
  },
  {
   "cell_type": "markdown",
   "metadata": {},
   "source": [
    "## Inheritance\n",
    "\n",
    "We can use a class to create new classes:"
   ]
  },
  {
   "cell_type": "code",
   "execution_count": 56,
   "metadata": {},
   "outputs": [],
   "source": [
    "class Math_Student(Student):\n",
    "    \"\"\"\n",
    "    A Math student: behaves exactly like a Student \n",
    "    but also has a favourite class attribute.\n",
    "    \"\"\"\n",
    "    favourite_class = \"Mathematics\""
   ]
  },
  {
   "cell_type": "code",
   "execution_count": 57,
   "metadata": {},
   "outputs": [
    {
     "data": {
      "text/plain": [
       "(['Mathematics', 'Biology'], 29, 'Female', 'Mathematics')"
      ]
     },
     "execution_count": 57,
     "metadata": {},
     "output_type": "execute_result"
    }
   ],
   "source": [
    "becky = Math_Student([\"Mathematics\", \"Biology\"], 29, \"Female\")\n",
    "becky.courses, becky.age, becky.sex, becky.favourite_class"
   ]
  },
  {
   "cell_type": "code",
   "execution_count": null,
   "metadata": {},
   "outputs": [],
   "source": [
    "#This class has the methods of the parent class:\n",
    "becky.have_a_birthday()\n",
    "becky.age"
   ]
  },
  {
   "cell_type": "markdown",
   "metadata": {},
   "source": [
    "## Use the super() Function\n",
    "\n",
    "Python also has a super() function that will make the child class inherit all the methods and properties from its parent:"
   ]
  },
  {
   "cell_type": "code",
   "execution_count": 37,
   "metadata": {},
   "outputs": [
    {
     "name": "stdout",
     "output_type": "stream",
     "text": [
      "Mike Olsen 2019\n",
      "Mike Olsen 2019\n"
     ]
    }
   ],
   "source": [
    "class Person:\n",
    "  def __init__(self, fname, lname):\n",
    "    self.firstname = fname\n",
    "    self.lastname = lname\n",
    "\n",
    "  def printname(self):\n",
    "    print(self.firstname, self.lastname)\n",
    "\n",
    "\n",
    "class Student(Person):\n",
    "  def __init__(self, fname, lname, year):\n",
    "    super().__init__(fname, lname)\n",
    "    self.graduationyear = year\n",
    "    \n",
    "  def printname(self):\n",
    "    print(self.firstname, self.lastname, self.graduationyear)\n",
    "\n",
    "x = Student(\"Mike\", \"Olsen\", 2019) \n",
    "x.printname()\n",
    "x.printname()"
   ]
  },
  {
   "cell_type": "markdown",
   "metadata": {},
   "source": [
    "## Summary\n",
    "\n",
    "- Classes\n",
    "- Attributes\n",
    "- Methods\n",
    "- Inheritance\n",
    "\n",
    "## Advantages\n",
    "\n",
    "- Simplicity\n",
    "- Modularity\n",
    "- Modifiability\n",
    "- Extensibility\n",
    "- Re-usability"
   ]
  },
  {
   "cell_type": "markdown",
   "metadata": {},
   "source": [
    "# Further resources\n",
    "\n",
    "1. [Python 3 Classes](https://docs.python.org/3.7/tutorial/classes.html)\n",
    "2. [W3 Python Classes and Objects](https://www.w3schools.com/python/python_iterators.asp)"
   ]
  }
 ],
 "metadata": {
  "anaconda-cloud": {},
  "kernelspec": {
   "display_name": "Python 3",
   "language": "python",
   "name": "python3"
  },
  "language_info": {
   "codemirror_mode": {
    "name": "ipython",
    "version": 3
   },
   "file_extension": ".py",
   "mimetype": "text/x-python",
   "name": "python",
   "nbconvert_exporter": "python",
   "pygments_lexer": "ipython3",
   "version": "3.8.1"
  }
 },
 "nbformat": 4,
 "nbformat_minor": 1
}
