{
 "cells": [
  {
   "cell_type": "markdown",
   "metadata": {},
   "source": [
    "# Functional Exercises\n"
   ]
  },
  {
   "cell_type": "code",
   "execution_count": null,
   "metadata": {},
   "outputs": [],
   "source": [
    "from functools import reduce \n",
    "\n",
    "# Use map to print the square of each numbers rounded\n",
    "# to two decimal places\n",
    "my_floats = [4.35, 6.09, 3.25, 9.77, 2.16, 8.88, 4.59]\n",
    "\n",
    "# Use filter to print only the names that are less than \n",
    "# or equal to seven letters\n",
    "my_names = [\"olumide\", \"akinremi\", \"josiah\", \"temidayo\", \"omoseun\"]\n",
    "\n",
    "# Use reduce to print the product of these numbers\n",
    "my_numbers = [4, 6, 9, 23, 5]\n",
    "\n",
    "# Fix all three respectively.\n",
    "map_result = list(map(lambda x: x, my_floats))\n",
    "filter_result = list(filter(lambda name: name, my_names))\n",
    "reduce_result = reduce(lambda num1, num2: num1 * num2, my_numbers, 0)\n",
    "\n",
    "print(map_result)\n",
    "print(filter_result)\n",
    "print(reduce_result)\n",
    "\n",
    "assert(map_result == [18.922, 37.088, 10.562, 95.453, 4.666, 78.854, 21.068])\n",
    "assert(filter_result == ['olumide', 'josiah', 'omoseun'])\n",
    "assert(reduce_result == 24840)"
   ]
  },
  {
   "cell_type": "code",
   "execution_count": null,
   "metadata": {},
   "outputs": [],
   "source": [
    "\"\"\"Implement the higher order functions map(), filter() and reduce(). \n",
    "(They are built-in but writing them yourself may be a good exercise.)\"\"\"\n",
    "\n",
    "# My solutions are based on the definitions from the python help function\n",
    "# >> help('map')\n",
    "# >> help('filter')\n",
    "# >> help('reduce')\n",
    "# See for yourself.\n",
    "# map() implementation. I know I didn't fully implement it because it would \n",
    "# be kinda long, but that's the basic\n",
    "def map(function, sequence):\n",
    "  pass\n",
    "\n",
    "# filter() implementation  \n",
    "def filter(function, sequence):\n",
    "  pass\n",
    "\n",
    "# reduce() implementation\n",
    "def reduce(function, sequence, initial):\n",
    "  pass\n",
    "\n",
    "#test\n",
    "print(map(lambda x: x * 2, [1,2,3,4]))\n",
    "print(filter(lambda x: x.endswith('in'), ('lapin', 'cretin', 'ah', 'oui')))\n",
    "print(reduce(lambda x, y: x+y, [1, 2, 3, 4, 5], 5))"
   ]
  },
  {
   "cell_type": "code",
   "execution_count": null,
   "metadata": {},
   "outputs": [],
   "source": []
  }
 ],
 "metadata": {
  "kernelspec": {
   "display_name": "Python 3",
   "language": "python",
   "name": "python3"
  },
  "language_info": {
   "codemirror_mode": {
    "name": "ipython",
    "version": 3
   },
   "file_extension": ".py",
   "mimetype": "text/x-python",
   "name": "python",
   "nbconvert_exporter": "python",
   "pygments_lexer": "ipython3",
   "version": "3.7.5"
  }
 },
 "nbformat": 4,
 "nbformat_minor": 2
}
