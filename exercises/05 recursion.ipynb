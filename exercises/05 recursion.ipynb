{
 "cells": [
  {
   "cell_type": "markdown",
   "metadata": {},
   "source": [
    "# Recursion Exercises\n",
    "\n",
    "1. Write a recursive function that sums all elements in a list."
   ]
  },
  {
   "cell_type": "code",
   "execution_count": 1,
   "metadata": {},
   "outputs": [],
   "source": [
    "def sum_list(l):\n",
    "    if l == []:\n",
    "        return 0\n",
    "    else:\n",
    "        head = l[0]\n",
    "        tail = l[1:]\n",
    "        return head + sum_list(tail)\n",
    "\n",
    "assert(sum_list([1,2,3]) == 6)"
   ]
  },
  {
   "cell_type": "markdown",
   "metadata": {},
   "source": [
    "2. Write a recursive funtion that returns the maximum value of a list."
   ]
  },
  {
   "cell_type": "code",
   "execution_count": 6,
   "metadata": {},
   "outputs": [],
   "source": [
    "def maximum(l):\n",
    "    if l == []:\n",
    "        return None\n",
    "    #elif len(l) == 1:\n",
    "    #    return l[0]\n",
    "    else:\n",
    "        head = l[0]\n",
    "        tail = l[1:]\n",
    "        if maximum(tail) == None or head > maximum(tail):\n",
    "            return head\n",
    "        else:\n",
    "            return maximum(tail)\n",
    "\n",
    "assert(maximum([1,2,3,4,5,6]) == 6)"
   ]
  },
  {
   "cell_type": "markdown",
   "metadata": {},
   "source": [
    "3. Write a recursive function to compute the power operation."
   ]
  },
  {
   "cell_type": "code",
   "execution_count": 2,
   "metadata": {},
   "outputs": [
    {
     "name": "stdout",
     "output_type": "stream",
     "text": [
      "1267650600228229401496703205376\n",
      "100\n",
      "1267650600228229401496703205376\n",
      "101\n",
      "1.2676506002e+30\n",
      "8\n"
     ]
    }
   ],
   "source": [
    "C = 0\n",
    "\n",
    "def power(a,b):\n",
    "    global C\n",
    "    r = 1\n",
    "    for i in range(0,b):\n",
    "        r *= a\n",
    "        C += 1\n",
    "    return r\n",
    "\n",
    "def power1(a,b):\n",
    "    global C\n",
    "    C += 1\n",
    "    if b == 0:\n",
    "        return 1\n",
    "    else:\n",
    "        return a*power1(a, b-1)\n",
    "\n",
    "assert(power(2,1) == 2)\n",
    "assert(power(2,2) == 4)\n",
    "assert(power(2,3) == 8)\n",
    "\n",
    "C=0\n",
    "print(power(2,100))\n",
    "print(C)\n",
    "\n",
    "assert(power1(2,1) == 2)\n",
    "assert(power1(2,2) == 4)\n",
    "assert(power1(2,3) == 8)\n",
    "\n",
    "C=0\n",
    "print(power1(2,100))\n",
    "print(C)\n",
    "\n",
    "def power2(a,b):\n",
    "    global C\n",
    "    C += 1\n",
    "    if b == 0:\n",
    "        return 1\n",
    "    else:\n",
    "        if b % 2 == 0:\n",
    "            r = power2(a, int(b/2))\n",
    "            return r*r\n",
    "        else:\n",
    "            r = power2(a, int(b/2))\n",
    "            return a *r *r \n",
    "\n",
    "C=0\n",
    "print('{:.10e}'.format(power2(2,100)))\n",
    "print(C)"
   ]
  },
  {
   "cell_type": "markdown",
   "metadata": {},
   "source": [
    "4. Write a recursive function to solve the N-Queen problem. "
   ]
  },
  {
   "cell_type": "code",
   "execution_count": null,
   "metadata": {},
   "outputs": [],
   "source": []
  }
 ],
 "metadata": {
  "kernelspec": {
   "display_name": "Python 3",
   "language": "python",
   "name": "python3"
  },
  "language_info": {
   "codemirror_mode": {
    "name": "ipython",
    "version": 3
   },
   "file_extension": ".py",
   "mimetype": "text/x-python",
   "name": "python",
   "nbconvert_exporter": "python",
   "pygments_lexer": "ipython3",
   "version": "3.8.1"
  }
 },
 "nbformat": 4,
 "nbformat_minor": 2
}
