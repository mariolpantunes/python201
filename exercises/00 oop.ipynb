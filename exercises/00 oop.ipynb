{
 "cells": [
  {
   "cell_type": "markdown",
   "metadata": {},
   "source": [
    "# OOP Exercises\n",
    "\n",
    "1. Write a Python class to reverse a string word by word"
   ]
  },
  {
   "cell_type": "code",
   "execution_count": 7,
   "metadata": {},
   "outputs": [],
   "source": [
    "class invert:\n",
    "    def text(self, txt):\n",
    "        r = ''\n",
    "        for l in txt:\n",
    "            r = l + r\n",
    "        return r\n",
    "\n",
    "assert(invert().text('hello') == 'olleh')\n",
    "assert(invert().text('python') == 'nohtyp')"
   ]
  },
  {
   "cell_type": "markdown",
   "metadata": {},
   "source": [
    "2. Write a class that represents a generic figure with two methods: area and perimeter"
   ]
  },
  {
   "cell_type": "code",
   "execution_count": 9,
   "metadata": {},
   "outputs": [],
   "source": [
    "class Figure():\n",
    "    def area(self):\n",
    "        pass\n",
    "    def perimeter(self):\n",
    "        pass"
   ]
  },
  {
   "cell_type": "markdown",
   "metadata": {},
   "source": [
    "3. Write two classes that represent a circle and a rectangle\n",
    "    * Rectangle constructed by a length and width\n",
    "    * Circle constructed by a radius"
   ]
  },
  {
   "cell_type": "code",
   "execution_count": 17,
   "metadata": {},
   "outputs": [
    {
     "name": "stdout",
     "output_type": "stream",
     "text": [
      "Figure Circle with radius 1 with area 3.141592653589793 and perimeter 6.283185307179586.\n",
      "Figure Oney with area 1 and perimeter 4.\n",
      "Figure Circle with radius 3 with area 28.274333882308138 and perimeter 18.84955592153876.\n",
      "Figure Oney with area 6 and perimeter 10.\n"
     ]
    }
   ],
   "source": [
    "import math\n",
    "\n",
    "class Circle(Figure):\n",
    "    def __init__(self, radius=1):\n",
    "        self.radius = radius\n",
    "        \n",
    "    def area(self):\n",
    "        return math.pi * self.radius ** 2\n",
    "    \n",
    "    def perimeter(self):\n",
    "        return 2 * math.pi * self.radius\n",
    "    \n",
    "    def __repr__(self):\n",
    "        return 'Circle with radius {}'.format(self.radius)\n",
    "        \n",
    "class Rectangle(Figure):\n",
    "    def __init__(self, l=1, w=1):\n",
    "        self.l = l\n",
    "        self.w = w\n",
    "    def area(self):\n",
    "        return self.l * self.w\n",
    "    def perimeter(self):\n",
    "        return 2 * self.l + 2 * self.w\n",
    "    def __repr__(self):\n",
    "        return 'Oney'\n",
    "        \n",
    "figures = [Circle(), Rectangle(), Circle(3), Rectangle(2,3)]\n",
    "\n",
    "for f in figures:\n",
    "    print('Figure {} with area {} and perimeter {}.'.format(f, f.area(), f.perimeter()))"
   ]
  },
  {
   "cell_type": "markdown",
   "metadata": {},
   "source": [
    "4. Write a class that represent a Matrix with the following operations: sum, multiplication and transpose"
   ]
  },
  {
   "cell_type": "code",
   "execution_count": null,
   "metadata": {},
   "outputs": [],
   "source": []
  },
  {
   "cell_type": "markdown",
   "metadata": {},
   "source": [
    "5. Write a Python class to convert an integer to a roman numeral"
   ]
  },
  {
   "cell_type": "code",
   "execution_count": null,
   "metadata": {},
   "outputs": [],
   "source": [
    "class convert:\n",
    "    def int_to_Roman(self, num):\n",
    "        pass\n",
    "\n",
    "assert(convert().int_to_Roman(1) == 'I')\n",
    "assert(convert().int_to_Roman(4000) == 'MMMM')"
   ]
  },
  {
   "cell_type": "markdown",
   "metadata": {},
   "source": [
    "6. Write a Python class to convert a roman numeral to an integer"
   ]
  },
  {
   "cell_type": "code",
   "execution_count": null,
   "metadata": {},
   "outputs": [],
   "source": [
    "class convert:\n",
    "    def roman_to_Int(self, txt):\n",
    "        pass\n",
    "\n",
    "assert(convert().int_to_Roman('I') == 1)\n",
    "assert(convert().int_to_Roman('MMMM') == 4000)"
   ]
  }
 ],
 "metadata": {
  "kernelspec": {
   "display_name": "Python 3",
   "language": "python",
   "name": "python3"
  },
  "language_info": {
   "codemirror_mode": {
    "name": "ipython",
    "version": 3
   },
   "file_extension": ".py",
   "mimetype": "text/x-python",
   "name": "python",
   "nbconvert_exporter": "python",
   "pygments_lexer": "ipython3",
   "version": "3.7.5"
  }
 },
 "nbformat": 4,
 "nbformat_minor": 2
}
