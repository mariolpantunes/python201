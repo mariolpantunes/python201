{
 "cells": [
  {
   "cell_type": "markdown",
   "metadata": {},
   "source": [
    "# Iterators Exercises\n",
    "\n",
    "A string is iterable because you can go through each letter that composes the string.\n",
    "It's not an iterator. Running iter(\"string\") returns an iterator.\n",
    "The iterator will call next() on the iterator until it has completely cycled through. \n",
    "\n",
    "when the iterator is exhausted and there is nothing more that comes from next(), Python throws a StopIterator error. \n",
    "\n",
    "1. Create our own for loop"
   ]
  },
  {
   "cell_type": "code",
   "execution_count": null,
   "metadata": {},
   "outputs": [],
   "source": [
    "def my_for(iterable, function):\n",
    "    pass\n",
    "\n",
    "\n",
    "def square(x):\n",
    "    print(x*x)\n",
    "\n",
    "my_for(\"hello\", print)\n",
    "my_for([1, 2, 3, 4, 5], square)"
   ]
  },
  {
   "cell_type": "markdown",
   "metadata": {},
   "source": [
    "2. Write a custom iterator."
   ]
  },
  {
   "cell_type": "code",
   "execution_count": null,
   "metadata": {},
   "outputs": [],
   "source": [
    "class Counter:\n",
    "    def __init__(self, low, high):\n",
    "        self.current = low\n",
    "        self.high = high\n",
    "\n",
    "    # this needs to return an iterator\n",
    "    def __iter__(self):\n",
    "        return self\n",
    "\n",
    "    def __next__(self):\n",
    "        pass\n",
    "\n",
    "for x in Counter(0, 10):\n",
    "    print(x)"
   ]
  }
 ],
 "metadata": {
  "kernelspec": {
   "display_name": "Python 3",
   "language": "python",
   "name": "python3"
  },
  "language_info": {
   "codemirror_mode": {
    "name": "ipython",
    "version": 3
   },
   "file_extension": ".py",
   "mimetype": "text/x-python",
   "name": "python",
   "nbconvert_exporter": "python",
   "pygments_lexer": "ipython3",
   "version": "3.7.5"
  }
 },
 "nbformat": 4,
 "nbformat_minor": 2
}
