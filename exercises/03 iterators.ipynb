{
 "cells": [
  {
   "cell_type": "markdown",
   "metadata": {},
   "source": [
    "# Iterators\n",
    "\n",
    "1. Fill the following exercises:"
   ]
  },
  {
   "cell_type": "code",
   "execution_count": null,
   "metadata": {},
   "outputs": [],
   "source": [
    "# A string is iterable because you can go through each letter that composes the string.\n",
    "# It's not an iterator. Running iter(\"string\") returns an iterator.\n",
    "# The iterator will call next() on the iterator until it has completely cycled through. \n",
    "\n",
    "# when the iterator is exhausted and there is nothing more that comes from next(), \n",
    "# Python throws a StopIterator error. \n",
    "\n",
    "# creating our own for loop\n",
    "# this is meant to show what really happens when you write a for loop\n",
    "def my_for(iterable, function):\n",
    "    pass\n",
    "\n",
    "def square(x):\n",
    "    print(x*x)\n",
    "    \n",
    "\n",
    "my_for(\"hello\", print)\n",
    "my_for([1, 2, 3, 4, 5], square)\n",
    "\n",
    "\n",
    "# writing a custom iterator\n",
    "class Counter:\n",
    "    def __init__(self, low, high):\n",
    "        self.current = low\n",
    "        self.high = high\n",
    "\n",
    "    # this needs to return an iterator\n",
    "    def __iter__(self):\n",
    "        return self\n",
    "\n",
    "    def __next__(self):\n",
    "        pass\n",
    "\n",
    "for x in Counter(0, 10):\n",
    "    print(x)"
   ]
  },
  {
   "cell_type": "code",
   "execution_count": null,
   "metadata": {},
   "outputs": [],
   "source": []
  }
 ],
 "metadata": {
  "kernelspec": {
   "display_name": "Python 3",
   "language": "python",
   "name": "python3"
  },
  "language_info": {
   "codemirror_mode": {
    "name": "ipython",
    "version": 3
   },
   "file_extension": ".py",
   "mimetype": "text/x-python",
   "name": "python",
   "nbconvert_exporter": "python",
   "pygments_lexer": "ipython3",
   "version": "3.7.5"
  }
 },
 "nbformat": 4,
 "nbformat_minor": 2
}
