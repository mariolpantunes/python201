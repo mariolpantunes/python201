{
 "cells": [
  {
   "cell_type": "markdown",
   "metadata": {},
   "source": [
    "# Generators Exercises\n",
    "\n",
    "1. Create a generator that generates the squares of numbers up to some number N."
   ]
  },
  {
   "cell_type": "code",
   "execution_count": 2,
   "metadata": {
    "scrolled": true
   },
   "outputs": [
    {
     "name": "stdout",
     "output_type": "stream",
     "text": [
      "0 1 4 9 16 25 36 49 64 81 100 \n",
      "0 1 4 9 16 25 36 49 64 81 100 \n",
      "1 4 9 16 25 36 49 64 81 "
     ]
    }
   ],
   "source": [
    "def gensquares(N):\n",
    "    num = 0\n",
    "    #print('init')\n",
    "    while num <= N:\n",
    "        r = num ** 2\n",
    "        yield r\n",
    "        num += 1\n",
    "        #print('step...')\n",
    "\n",
    "for x in gensquares(10):\n",
    "    print(x, end=' ')\n",
    "\n",
    "print()\n",
    "g = gensquares(10)\n",
    "for i in range(11):\n",
    "    print(next(g), end=' ')\n",
    "\n",
    "print()\n",
    "l=[1,2,3,4,5,6,7,8,9]\n",
    "gensquares2 = (x**2 for x in l)\n",
    "\n",
    "for x in gensquares2:\n",
    "    print(x, end=' ')"
   ]
  },
  {
   "cell_type": "markdown",
   "metadata": {},
   "source": [
    "2. Create a generator that yields \"n\" random numbers between a low and high number (that are inputs). Note: Use the random library. For example:"
   ]
  },
  {
   "cell_type": "code",
   "execution_count": 7,
   "metadata": {},
   "outputs": [
    {
     "name": "stdout",
     "output_type": "stream",
     "text": [
      "93 63 51 7 28 40 41 12 79 31 70 69 \n",
      "3 6 7 6 8 8 8 7 4 2 2 3 2 "
     ]
    }
   ],
   "source": [
    "import random\n",
    "\n",
    "#print(random.randint(1,10))\n",
    "\n",
    "def rand_num(low, high, n):\n",
    "    c = 0\n",
    "    while c < n:\n",
    "        r = random.randint(low, high)\n",
    "        yield r\n",
    "        c += 1\n",
    "\n",
    "rand_num2 = (random.randint(0, 10) for x in range(13))\n",
    "\n",
    "for num in rand_num(0,100,12):\n",
    "    print(num, end= ' ')\n",
    "\n",
    "print()\n",
    "\n",
    "for num in rand_num2:\n",
    "    print(num, end= ' ')"
   ]
  },
  {
   "cell_type": "code",
   "execution_count": null,
   "metadata": {},
   "outputs": [],
   "source": []
  }
 ],
 "metadata": {
  "kernelspec": {
   "display_name": "Python 3",
   "language": "python",
   "name": "python3"
  },
  "language_info": {
   "codemirror_mode": {
    "name": "ipython",
    "version": 3
   },
   "file_extension": ".py",
   "mimetype": "text/x-python",
   "name": "python",
   "nbconvert_exporter": "python",
   "pygments_lexer": "ipython3",
   "version": "3.8.1"
  }
 },
 "nbformat": 4,
 "nbformat_minor": 2
}
