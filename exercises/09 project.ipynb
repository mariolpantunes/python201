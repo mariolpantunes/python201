{
 "cells": [
  {
   "cell_type": "markdown",
   "metadata": {},
   "source": [
    "# Project\n",
    "\n",
    "1. Write a Python class that represents a matrix with the following operations: add, multiplication and transpose."
   ]
  },
  {
   "cell_type": "code",
   "execution_count": 2,
   "metadata": {},
   "outputs": [
    {
     "name": "stdout",
     "output_type": "stream",
     "text": [
      "1.00 0.00 0.00 \n",
      "0.00 1.00 0.00 \n",
      "0.00 0.00 1.00 \n",
      "\n",
      "(3, 3)\n",
      "1.00 0.00 0.00 \n",
      "0.00 1.00 0.00 \n",
      "0.00 0.00 1.00 \n",
      "\n",
      "(3, 3)\n",
      "2.00 0.00 0.00 \n",
      "0.00 2.00 0.00 \n",
      "0.00 0.00 2.00 \n",
      "\n",
      "4.00 0.00 0.00 \n",
      "0.00 4.00 0.00 \n",
      "0.00 0.00 4.00 \n",
      "\n"
     ]
    }
   ],
   "source": [
    "class Matrix():\n",
    "    def __init__(self, m):\n",
    "        self. m = m\n",
    "    \n",
    "    def rows(self):\n",
    "        return len(self.m)\n",
    "    \n",
    "    def cols(self):\n",
    "        return len(self.m[0])\n",
    "    \n",
    "    def size(self):\n",
    "        return (self.rows(), self.cols())\n",
    "    \n",
    "    def add(self, matrix):\n",
    "        if self.size() == matrix.size():\n",
    "            m = [[0]*self.cols() for i in range(self.rows())]\n",
    "            for i in range(self.rows()):\n",
    "                for j in range(self.cols()):\n",
    "                    m[i][j] = self.m[i][j] + matrix.m[i][j]\n",
    "            r = Matrix(m)\n",
    "            return r\n",
    "        else:\n",
    "            return None\n",
    "        \n",
    "    def mul(self, matrix):\n",
    "        if self.rows() == matrix.cols():\n",
    "            m = [[0]*self.cols() for i in range(matrix.rows())]\n",
    "            for i in range(matrix.rows()):\n",
    "                for j in range(self.cols()):\n",
    "                    for k in range(self.rows()):\n",
    "                        m[i][j] += self.m[i][k] * matrix.m[k][j]\n",
    "            r = Matrix(m)\n",
    "            return r\n",
    "        else:\n",
    "            return None\n",
    "    \n",
    "    def __repr__(self):\n",
    "        s = ''\n",
    "        for l in self.m:\n",
    "            for c in l:\n",
    "                s += '{:2.2f} '.format(c)\n",
    "            s += '\\n'\n",
    "        return s\n",
    "\n",
    "m = [[1,0,0],[0,1,0],[0,0,1]]\n",
    "ma0 = Matrix(m)\n",
    "print(ma0)\n",
    "print(ma0.size())\n",
    "\n",
    "ma1 = Matrix(m)\n",
    "print(ma1)\n",
    "print(ma1.size())\n",
    "\n",
    "r = ma0.add(ma1)\n",
    "print(r)\n",
    "\n",
    "r2 = r.mul(r)\n",
    "print(r2)"
   ]
  },
  {
   "cell_type": "markdown",
   "metadata": {},
   "source": [
    "2. Write the code necessary to play tic-tac-toe."
   ]
  },
  {
   "cell_type": "code",
   "execution_count": null,
   "metadata": {},
   "outputs": [],
   "source": []
  },
  {
   "cell_type": "markdown",
   "metadata": {},
   "source": [
    "3. PyExcel\n",
    "\n",
    "Sample code to deal with excel files in Python."
   ]
  },
  {
   "cell_type": "code",
   "execution_count": 3,
   "metadata": {},
   "outputs": [
    {
     "name": "stdout",
     "output_type": "stream",
     "text": [
      "Collecting pyexcel\n",
      "  Using cached https://files.pythonhosted.org/packages/5e/da/c07c84c9a11f0c29d328f0eeef267be4c82399b1d39d3c5597bb9f4bc47d/pyexcel-0.5.15-py2.py3-none-any.whl\n",
      "Collecting pyexcel-xls\n",
      "  Using cached https://files.pythonhosted.org/packages/74/39/43be0b99c2c0534690a97afa723b6cc39dd5fa4b0e71b865bcc4e1455fc0/pyexcel_xls-0.5.8-py2.py3-none-any.whl\n",
      "Collecting lml>=0.0.4 (from pyexcel)\n",
      "  Using cached https://files.pythonhosted.org/packages/90/e5/eaa5a1c8a9adbac956daa6027789ff13e30362a03cc0d010d88bd867c73f/lml-0.0.9-py2.py3-none-any.whl\n",
      "Collecting texttable>=0.8.2 (from pyexcel)\n",
      "  Downloading https://files.pythonhosted.org/packages/ec/b1/8a1c659ce288bf771d5b1c7cae318ada466f73bd0e16df8d86f27a2a3ee7/texttable-1.6.2-py2.py3-none-any.whl\n",
      "Collecting pyexcel-io>=0.5.19 (from pyexcel)\n",
      "  Using cached https://files.pythonhosted.org/packages/50/96/4fd9f1fac8aae6f4f66609c5520b3611bceb631a52a4f6d00c8c4c440270/pyexcel_io-0.5.20-py2.py3-none-any.whl\n",
      "Collecting xlrd (from pyexcel-xls)\n",
      "  Using cached https://files.pythonhosted.org/packages/b0/16/63576a1a001752e34bf8ea62e367997530dc553b689356b9879339cf45a4/xlrd-1.2.0-py2.py3-none-any.whl\n",
      "Collecting xlwt (from pyexcel-xls)\n",
      "  Using cached https://files.pythonhosted.org/packages/44/48/def306413b25c3d01753603b1a222a011b8621aed27cd7f89cbc27e6b0f4/xlwt-1.3.0-py2.py3-none-any.whl\n",
      "Installing collected packages: lml, texttable, pyexcel-io, pyexcel, xlrd, xlwt, pyexcel-xls\n",
      "Successfully installed lml-0.0.9 pyexcel-0.5.15 pyexcel-io-0.5.20 pyexcel-xls-0.5.8 texttable-1.6.2 xlrd-1.2.0 xlwt-1.3.0\n",
      "\u001b[33mWARNING: You are using pip version 19.2.3, however version 20.0.2 is available.\n",
      "You should consider upgrading via the 'pip install --upgrade pip' command.\u001b[0m\n",
      "Note: you may need to restart the kernel to use updated packages.\n"
     ]
    }
   ],
   "source": [
    "pip install pyexcel pyexcel-xls --upgrade"
   ]
  },
  {
   "cell_type": "code",
   "execution_count": 6,
   "metadata": {},
   "outputs": [
    {
     "name": "stdout",
     "output_type": "stream",
     "text": [
      "United States\n",
      "[1, 'Dulce', 'Abril', 'Female', 'United States', 32, datetime.date(2017, 10, 15), 1562]\n",
      "34.083333333333336\n",
      "14\n",
      "34\n",
      "Great Britain\n",
      "[7, 'Etta', 'Hurn', 'Female', 'Great Britain', 56, datetime.date(2017, 10, 15), 3598]\n",
      "33.142857142857146\n",
      "2\n",
      "26\n",
      "France\n",
      "[12, 'Franklyn', 'Unknow', 'Male', 'France', 38, datetime.date(2017, 10, 15), 2579]\n",
      "31.75\n",
      "8\n",
      "16\n"
     ]
    }
   ],
   "source": [
    "# Import `pyexcel`\n",
    "import pyexcel\n",
    "\n",
    "# Data pretty printer\n",
    "import pprint\n",
    "\n",
    "# Import `OrderedDict` module \n",
    "from pyexcel._compact import OrderedDict\n",
    "\n",
    "import datetime\n",
    "\n",
    "pp = pprint.PrettyPrinter(indent=0)\n",
    "\n",
    "# Get an array from the data\n",
    "my_array = pyexcel.get_array(file_name='../resources/sample.xls')\n",
    "header = my_array[0]\n",
    "my_array = my_array[1:]\n",
    "#pp.pprint(my_array)\n",
    "#print()\n",
    "\n",
    "d={}\n",
    "idx_country = header.index('Country')\n",
    "idx_date = header.index('Date')\n",
    "idx_age = header.index('Age')\n",
    "idx_gender = header.index('Gender')\n",
    "for l in my_array:\n",
    "    country = l[idx_country]\n",
    "    if country in d:\n",
    "        l[idx_date] = datetime.datetime.strptime(l[idx_date], '%d/%m/%Y').date()\n",
    "        d[country].append(l)\n",
    "    else:\n",
    "        d[country] = []\n",
    "        l[idx_date] = datetime.datetime.strptime(l[idx_date], '%d/%m/%Y').date()\n",
    "        d[country].append(l)\n",
    "\n",
    "result = [['Country', 'Name', 'Average Age', 'Number of Males', 'Number of Females']]\n",
    "for country in d:\n",
    "    print(country)\n",
    "    people = d[country]\n",
    "    \n",
    "    most_recent_person = max(people, key = lambda p: p[idx_date])\n",
    "    \n",
    "    average_age = sum([r[idx_age] for r in people]) / len(people)\n",
    "    \n",
    "    number_of_males = len(list(filter(lambda p:p[idx_gender].lower() == 'male', people)))\n",
    "    \n",
    "    number_of_females = len(people) - number_of_males\n",
    "    \n",
    "    print(most_recent_person)\n",
    "    print(average_age)\n",
    "    print(number_of_males)\n",
    "    print(number_of_females)\n",
    "    result.append([country, most_recent_person[1], average_age, number_of_males, number_of_females])\n",
    "    #for p in people:\n",
    "    #    print(p)\n",
    "\n",
    "pyexcel.save_as(array=result, dest_file_name='../resources/output.xls')"
   ]
  },
  {
   "cell_type": "code",
   "execution_count": null,
   "metadata": {},
   "outputs": [],
   "source": []
  },
  {
   "cell_type": "code",
   "execution_count": null,
   "metadata": {},
   "outputs": [],
   "source": []
  }
 ],
 "metadata": {
  "kernelspec": {
   "display_name": "Python 3",
   "language": "python",
   "name": "python3"
  },
  "language_info": {
   "codemirror_mode": {
    "name": "ipython",
    "version": 3
   },
   "file_extension": ".py",
   "mimetype": "text/x-python",
   "name": "python",
   "nbconvert_exporter": "python",
   "pygments_lexer": "ipython3",
   "version": "3.8.1"
  }
 },
 "nbformat": 4,
 "nbformat_minor": 2
}
